{
 "cells": [
  {
   "cell_type": "markdown",
   "metadata": {},
   "source": [
    "#This file merge burn severity and recovery data for defoliated fires."
   ]
  },
  {
   "cell_type": "code",
   "execution_count": 146,
   "metadata": {},
   "outputs": [],
   "source": [
    "import plotly.express as px\n",
    "import pandas as pd\n",
    "import statsmodels\n",
    "import numpy as np\n",
    "from pathlib import Path\n"
   ]
  },
  {
   "cell_type": "markdown",
   "metadata": {},
   "source": [
    "Read in files"
   ]
  },
  {
   "cell_type": "code",
   "execution_count": 147,
   "metadata": {},
   "outputs": [],
   "source": [
    "dfrbr = pd.read_csv(\"/Users/jgoldman/Library/CloudStorage/OneDrive-UniversityofToronto/Data/fire-only-sbw-only-perimeters/cleaned/rbr/defol/defoliated-perims-rbr-v2.csv\")\n",
    "dfnbr = pd.read_csv(\"/Users/jgoldman/Library/CloudStorage/OneDrive-UniversityofToronto/Data/fire-only-sbw-only-perimeters/cleaned/nbr-recovery/defol/defoliated_fires_nbr.csv\")\n"
   ]
  },
  {
   "cell_type": "markdown",
   "metadata": {},
   "source": [
    "What is the length of each dataset?"
   ]
  },
  {
   "cell_type": "code",
   "execution_count": 148,
   "metadata": {},
   "outputs": [
    {
     "data": {
      "text/plain": [
       "321"
      ]
     },
     "execution_count": 148,
     "metadata": {},
     "output_type": "execute_result"
    }
   ],
   "source": [
    "len(dfrbr)"
   ]
  },
  {
   "cell_type": "code",
   "execution_count": 149,
   "metadata": {},
   "outputs": [
    {
     "data": {
      "text/plain": [
       "312"
      ]
     },
     "execution_count": 149,
     "metadata": {},
     "output_type": "execute_result"
    }
   ],
   "source": [
    "len(dfnbr)"
   ]
  },
  {
   "cell_type": "markdown",
   "metadata": {},
   "source": [
    "There are more rbr values 321 than there are nbr values 312, check which ones are missing in nbr"
   ]
  },
  {
   "cell_type": "code",
   "execution_count": 150,
   "metadata": {},
   "outputs": [
    {
     "data": {
      "text/plain": [
       "['NOR56_2018_2044',\n",
       " 'NOR69_2018_2119',\n",
       " 'SUD35_2016_2006',\n",
       " 'NOR55_2018_2141',\n",
       " 'NOR68_2018_2028',\n",
       " 'NOR62_2018_2053',\n",
       " 'PAR33_2018_2071',\n",
       " 'NOR25_2018_2121',\n",
       " 'NOR42_2018_2129']"
      ]
     },
     "execution_count": 150,
     "metadata": {},
     "output_type": "execute_result"
    }
   ],
   "source": [
    "fireID_rbr = dfrbr['Fire_ID'].to_list()\n",
    "fireID_nbr = dfnbr['Fire_ID'].to_list()\n",
    "list(set(fireID_rbr) - set(fireID_nbr))"
   ]
  },
  {
   "cell_type": "markdown",
   "metadata": {},
   "source": [
    "Remove fires that dont match in df_rbr"
   ]
  },
  {
   "cell_type": "code",
   "execution_count": 151,
   "metadata": {},
   "outputs": [
    {
     "name": "stdout",
     "output_type": "stream",
     "text": [
      "['NOR56_2018_2044', 'NOR69_2018_2119', 'SUD35_2016_2006', 'NOR55_2018_2141', 'NOR68_2018_2028', 'NOR62_2018_2053', 'PAR33_2018_2071', 'NOR25_2018_2121', 'NOR42_2018_2129']\n"
     ]
    }
   ],
   "source": [
    "remove_ids = list(set(fireID_rbr) - set(fireID_nbr))\n",
    "\n",
    "print(remove_ids)\n"
   ]
  },
  {
   "cell_type": "code",
   "execution_count": 152,
   "metadata": {},
   "outputs": [],
   "source": [
    "dfrbr = dfrbr[~dfrbr['Fire_ID'].isin(remove_ids)]\n",
    "len(dfrbr)\n",
    "dft = dfrbr[(dfrbr['Fire_ID']) == 'NOR56_2018_2044']"
   ]
  },
  {
   "cell_type": "markdown",
   "metadata": {},
   "source": [
    "I kept the defol column, this defol column is has a few zeros, check the data to see the size of these perimeters."
   ]
  },
  {
   "cell_type": "code",
   "execution_count": 153,
   "metadata": {},
   "outputs": [
    {
     "data": {
      "text/plain": [
       "312"
      ]
     },
     "execution_count": 153,
     "metadata": {},
     "output_type": "execute_result"
    }
   ],
   "source": [
    "dfrbr = dfrbr[['Fire_ID', 'rbrCV', 'rbrExtreme', 'rbrMedian', 'tsd', 'defol', 'years_defol']]\n",
    "len(dfrbr)"
   ]
  },
  {
   "cell_type": "code",
   "execution_count": 154,
   "metadata": {},
   "outputs": [
    {
     "data": {
      "text/html": [
       "<div>\n",
       "<style scoped>\n",
       "    .dataframe tbody tr th:only-of-type {\n",
       "        vertical-align: middle;\n",
       "    }\n",
       "\n",
       "    .dataframe tbody tr th {\n",
       "        vertical-align: top;\n",
       "    }\n",
       "\n",
       "    .dataframe thead th {\n",
       "        text-align: right;\n",
       "    }\n",
       "</style>\n",
       "<table border=\"1\" class=\"dataframe\">\n",
       "  <thead>\n",
       "    <tr style=\"text-align: right;\">\n",
       "      <th></th>\n",
       "      <th>Fire_ID</th>\n",
       "      <th>nbr1</th>\n",
       "      <th>nbr2</th>\n",
       "      <th>nbr3</th>\n",
       "      <th>nbr4</th>\n",
       "      <th>nbr5</th>\n",
       "      <th>nbr6</th>\n",
       "      <th>nbr7</th>\n",
       "      <th>nbr8</th>\n",
       "      <th>nbr9</th>\n",
       "      <th>nbr10</th>\n",
       "    </tr>\n",
       "  </thead>\n",
       "  <tbody>\n",
       "    <tr>\n",
       "      <th>0</th>\n",
       "      <td>CHA12_1991_532</td>\n",
       "      <td>0.205961</td>\n",
       "      <td>0.204704</td>\n",
       "      <td>0.279267</td>\n",
       "      <td>0.233863</td>\n",
       "      <td>0.204076</td>\n",
       "      <td>0.251705</td>\n",
       "      <td>0.269388</td>\n",
       "      <td>0.287662</td>\n",
       "      <td>0.235703</td>\n",
       "      <td>0.249931</td>\n",
       "    </tr>\n",
       "    <tr>\n",
       "      <th>1</th>\n",
       "      <td>GOG4_1991_1464</td>\n",
       "      <td>0.188382</td>\n",
       "      <td>0.249941</td>\n",
       "      <td>0.230050</td>\n",
       "      <td>0.194282</td>\n",
       "      <td>0.218880</td>\n",
       "      <td>0.233660</td>\n",
       "      <td>0.264350</td>\n",
       "      <td>0.286031</td>\n",
       "      <td>0.244063</td>\n",
       "      <td>0.240820</td>\n",
       "    </tr>\n",
       "    <tr>\n",
       "      <th>2</th>\n",
       "      <td>GER40_1991_716</td>\n",
       "      <td>0.131757</td>\n",
       "      <td>0.155174</td>\n",
       "      <td>0.201234</td>\n",
       "      <td>0.186374</td>\n",
       "      <td>0.158652</td>\n",
       "      <td>0.204622</td>\n",
       "      <td>0.164004</td>\n",
       "      <td>0.211810</td>\n",
       "      <td>0.207940</td>\n",
       "      <td>0.250839</td>\n",
       "    </tr>\n",
       "    <tr>\n",
       "      <th>3</th>\n",
       "      <td>HEA21_1991_512</td>\n",
       "      <td>0.106197</td>\n",
       "      <td>0.167786</td>\n",
       "      <td>0.228341</td>\n",
       "      <td>0.165205</td>\n",
       "      <td>0.144869</td>\n",
       "      <td>0.200430</td>\n",
       "      <td>0.195326</td>\n",
       "      <td>0.208556</td>\n",
       "      <td>0.194975</td>\n",
       "      <td>0.253994</td>\n",
       "    </tr>\n",
       "    <tr>\n",
       "      <th>4</th>\n",
       "      <td>CHA52_1991_1021</td>\n",
       "      <td>0.142085</td>\n",
       "      <td>0.210453</td>\n",
       "      <td>0.201205</td>\n",
       "      <td>0.191209</td>\n",
       "      <td>0.201068</td>\n",
       "      <td>0.203699</td>\n",
       "      <td>0.255377</td>\n",
       "      <td>0.273232</td>\n",
       "      <td>0.234927</td>\n",
       "      <td>0.262036</td>\n",
       "    </tr>\n",
       "  </tbody>\n",
       "</table>\n",
       "</div>"
      ],
      "text/plain": [
       "           Fire_ID      nbr1      nbr2      nbr3      nbr4      nbr5  \\\n",
       "0   CHA12_1991_532  0.205961  0.204704  0.279267  0.233863  0.204076   \n",
       "1   GOG4_1991_1464  0.188382  0.249941  0.230050  0.194282  0.218880   \n",
       "2   GER40_1991_716  0.131757  0.155174  0.201234  0.186374  0.158652   \n",
       "3   HEA21_1991_512  0.106197  0.167786  0.228341  0.165205  0.144869   \n",
       "4  CHA52_1991_1021  0.142085  0.210453  0.201205  0.191209  0.201068   \n",
       "\n",
       "       nbr6      nbr7      nbr8      nbr9     nbr10  \n",
       "0  0.251705  0.269388  0.287662  0.235703  0.249931  \n",
       "1  0.233660  0.264350  0.286031  0.244063  0.240820  \n",
       "2  0.204622  0.164004  0.211810  0.207940  0.250839  \n",
       "3  0.200430  0.195326  0.208556  0.194975  0.253994  \n",
       "4  0.203699  0.255377  0.273232  0.234927  0.262036  "
      ]
     },
     "execution_count": 154,
     "metadata": {},
     "output_type": "execute_result"
    }
   ],
   "source": [
    "dfnbr = dfnbr[['Fire_ID', 'nbr1', 'nbr2','nbr3', 'nbr4', 'nbr5', 'nbr6', 'nbr7', 'nbr8', 'nbr9', 'nbr10']]\n",
    "dfnbr.head()\n"
   ]
  },
  {
   "cell_type": "code",
   "execution_count": 155,
   "metadata": {},
   "outputs": [
    {
     "data": {
      "text/plain": [
       "[]"
      ]
     },
     "execution_count": 155,
     "metadata": {},
     "output_type": "execute_result"
    }
   ],
   "source": [
    "fireID_rbr = dfrbr['Fire_ID'].to_list()\n",
    "fireID_nbr = dfnbr['Fire_ID'].to_list()\n",
    "list(set(fireID_rbr) - set(fireID_nbr))"
   ]
  },
  {
   "cell_type": "code",
   "execution_count": 156,
   "metadata": {},
   "outputs": [
    {
     "data": {
      "text/plain": [
       "324"
      ]
     },
     "execution_count": 156,
     "metadata": {},
     "output_type": "execute_result"
    }
   ],
   "source": [
    "df_defol = dfnbr.merge(dfrbr, on='Fire_ID')\n",
    "\n",
    "len(df_defol)"
   ]
  },
  {
   "cell_type": "markdown",
   "metadata": {},
   "source": [
    "There seems to be duplicated columns. check the duplicates"
   ]
  },
  {
   "cell_type": "code",
   "execution_count": 157,
   "metadata": {},
   "outputs": [],
   "source": [
    "df_dup = df_defol[df_defol.duplicated()]"
   ]
  },
  {
   "cell_type": "markdown",
   "metadata": {},
   "source": [
    "In 1992, there are 6 triplicated fires. When checking the based csv files, it seems like the perimeters are in the defoliated area and not the non-defoliated area. This may be either completely defoliated fires, or areas whether the split did not occur properly. This needs to be investigated further. For now, these fires will be removed and I will continue with only 306 fires."
   ]
  },
  {
   "cell_type": "code",
   "execution_count": 158,
   "metadata": {},
   "outputs": [],
   "source": [
    "# remove duplicate fires\n",
    "df_defol_v2 = df_defol.drop_duplicates()\n",
    "\n"
   ]
  },
  {
   "cell_type": "code",
   "execution_count": 159,
   "metadata": {},
   "outputs": [],
   "source": [
    "outfolder = Path(\"/Users/jgoldman/Library/CloudStorage/OneDrive-UniversityofToronto/Data/fire-only-sbw-only-perimeters/cleaned/merged/\")\n",
    "df_defol_v2.to_csv(outfolder / \"defoliated_merged.csv\")\n",
    "df_dup.to_csv(outfolder / \"defoliated_merged_removed_duplicates.csv\")"
   ]
  }
 ],
 "metadata": {
  "kernelspec": {
   "display_name": "geospatial_env",
   "language": "python",
   "name": "python3"
  },
  "language_info": {
   "codemirror_mode": {
    "name": "ipython",
    "version": 3
   },
   "file_extension": ".py",
   "mimetype": "text/x-python",
   "name": "python",
   "nbconvert_exporter": "python",
   "pygments_lexer": "ipython3",
   "version": "3.11.6"
  }
 },
 "nbformat": 4,
 "nbformat_minor": 2
}
