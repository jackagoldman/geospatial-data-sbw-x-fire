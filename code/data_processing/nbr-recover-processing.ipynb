{
 "cells": [
  {
   "cell_type": "markdown",
   "id": "f6855871",
   "metadata": {},
   "source": [
    "# NBR processing script"
   ]
  },
  {
   "cell_type": "markdown",
   "id": "506e949c",
   "metadata": {},
   "source": [
    "This script processes nbr recovery data for both defoliated and non-defoliated fire perimeters in the boreal shield.\n",
    "Fires burned between 1986 and 2012)\n",
    "Nbr Recovery is from 1-10 years post fire"
   ]
  },
  {
   "cell_type": "code",
   "execution_count": 1,
   "id": "1bcbf03b",
   "metadata": {},
   "outputs": [],
   "source": [
    "# import packages\n",
    "import geopandas as gp\n",
    "import pandas as pd\n",
    "import numpy as np\n",
    "from pathlib import Path"
   ]
  },
  {
   "cell_type": "markdown",
   "metadata": {},
   "source": [
    "This code takes all the nbr recovery files for DEFOLIATED FIRES and merges them before outputing them as an nbr \n"
   ]
  },
  {
   "cell_type": "code",
   "execution_count": null,
   "id": "f6e49bfa",
   "metadata": {},
   "outputs": [],
   "source": [
    "# first we need to merge all the data\n",
    "folder = Path(\"/Users/jgoldman/Library/CloudStorage/GoogleDrive-jandrewgoldman@gmail.com/My Drive/NBR_V2 DEFOL/\")\n",
    "outfolder = Path(\"/Users/jgoldman/Library/CloudStorage/OneDrive-UniversityofToronto/Data/fire-only-sbw-only-perimeters/cleaned/nbr-recovery/defol/\")\n",
    "csvs = folder.glob(\"*.csv\")\n",
    "dfnbr = pd.concat([\n",
    "   pd.read_csv(str(csv)) # read in all files with the structure .shp\n",
    "   for csv in csvs  # loop - for all shp in shapefiles (folder) pipe to dataframe\n",
    "]).pipe(pd.DataFrame)\n",
    "dfnbr.to_csv(outfolder / 'defoliated_fires_nbr.csv') # send it out\n",
    "\n",
    "dfnbr.head()"
   ]
  },
  {
   "cell_type": "code",
   "execution_count": 6,
   "metadata": {},
   "outputs": [
    {
     "name": "stdout",
     "output_type": "stream",
     "text": [
      "<class 'pandas.core.frame.DataFrame'>\n",
      "Index: 312 entries, 0 to 16\n",
      "Data columns (total 42 columns):\n",
      " #   Column        Non-Null Count  Dtype  \n",
      "---  ------        --------------  -----  \n",
      " 0   system:index  312 non-null    object \n",
      " 1   BUSINESS_E    309 non-null    object \n",
      " 2   EFFECTIVE_    312 non-null    object \n",
      " 3   FID_Dissol    312 non-null    int64  \n",
      " 4   FID_ON_Fir    312 non-null    int64  \n",
      " 5   FIRE_DISTU    312 non-null    object \n",
      " 6   FIRE_FINAL    312 non-null    int64  \n",
      " 7   FIRE_GENER    312 non-null    object \n",
      " 8   FIRE_OUT_D    312 non-null    object \n",
      " 9   FIRE_RESPO    312 non-null    object \n",
      " 10  FIRE_START    312 non-null    object \n",
      " 11  FIRE_TYPE_    312 non-null    object \n",
      " 12  Fire_ID       312 non-null    object \n",
      " 13  Fire_Year     312 non-null    int64  \n",
      " 14  GENERAL_CO    198 non-null    object \n",
      " 15  GEOMETRY_U    3 non-null      object \n",
      " 16  LOCATION_A    312 non-null    object \n",
      " 17  OBJECTID      312 non-null    int64  \n",
      " 18  OGF_ID        312 non-null    int64  \n",
      " 19  RBR           312 non-null    object \n",
      " 20  SHAPEAREA     312 non-null    int64  \n",
      " 21  SHAPELEN      312 non-null    int64  \n",
      " 22  SYSTEM_DAT    312 non-null    object \n",
      " 23  Shape_Area    312 non-null    float64\n",
      " 24  Shape_Leng    312 non-null    float64\n",
      " 25  TIF           312 non-null    object \n",
      " 26  defolPrese    312 non-null    int64  \n",
      " 27  nbr1          312 non-null    float64\n",
      " 28  nbr10         312 non-null    float64\n",
      " 29  nbr2          312 non-null    float64\n",
      " 30  nbr3          312 non-null    float64\n",
      " 31  nbr4          312 non-null    float64\n",
      " 32  nbr5          312 non-null    float64\n",
      " 33  nbr6          312 non-null    float64\n",
      " 34  nbr7          312 non-null    float64\n",
      " 35  nbr8          312 non-null    float64\n",
      " 36  nbr9          312 non-null    float64\n",
      " 37  old_f_id      312 non-null    int64  \n",
      " 38  preNBR        312 non-null    float64\n",
      " 39  r_id          312 non-null    object \n",
      " 40  raster_id     312 non-null    object \n",
      " 41  .geo          312 non-null    object \n",
      "dtypes: float64(13), int64(10), object(19)\n",
      "memory usage: 104.8+ KB\n",
      "['CHA12_1991_532', 'GOG4_1991_1464', 'GER40_1991_716', 'HEA21_1991_512', 'CHA52_1991_1021', 'GER92_1991_1201', 'SUD164_1991_676', 'SUD165_1991_949', 'THU130_1991_1263', 'CHA9_1990_922', 'TER7_1986_83', 'KAP10_1986_1340', 'COC11_1986_1332', 'CHA7_1992_829', 'CHA7_1992_829', 'SUD23_1992_715', 'SUD23_1992_715', 'COC12_1992_485', 'COC12_1992_485', 'TEM5_1992_1319', 'TEM5_1992_1319', 'NIP9_1992_1122', 'NIP9_1992_1122', 'HEA16_1992_418', 'HEA16_1992_418', 'FOR13_1987_316', 'CHA9_1987_133', 'GOG1_1987_468', 'FOR33_1987_639', 'THU71_1987_651', 'ATI10_1987_819', 'CHA12_1987_1210', 'IGN9_1987_492', 'HEA6_1987_479', 'THU82_1987_885', 'KAP12_1987_1308', 'HEA11_1987_1204', 'CHA32_1987_1474', 'TIM2_1997_488', 'COC16_1997_1038', 'COC19_1997_521', 'TIM24_1997_121', 'COC34_1997_475', 'NIP29_1997_412', 'TIM12_1997_1531', 'TIM5_1996_563', 'THU41_1996_553', 'THU53_1996_593', 'NIP61_1996_318', 'NIP64_1996_782', 'HEA14_1996_1039', 'FOR9_1996_467', 'DRY18_1996_839', 'THU36_1996_1313', 'DRY24_1996_1466', 'THU58_1996_127', 'FOR11_1996_134', 'THU84_1996_147', 'NIP60_1996_227', 'NIP39_1996_236', 'HEA27_1996_270', 'THU76_1996_311', 'THU80_1996_348', 'NIP49_1996_366', 'NIP51_1996_620', 'THU73_1996_661', 'THU38_1996_675', 'NIP46_1996_726', 'THU79_1996_742', 'THU45_1996_834', 'SLK60_1996_884', 'DRY23_1996_942', 'NIP63_1996_1056', 'THU74_1996_1129', 'DRY12_1996_1145', 'NIP65_1996_1146', 'SLK86_1996_1174', 'THU77_1996_1187', 'NIP44_1996_1211', 'THU67_1996_1222', 'NIP79_1996_1296', 'DRY36_1996_957', 'DRY31_1996_1105', 'THU90_1996_1274', 'NIP80_1996_310', 'NIP86_1996_856', 'THU71_1996_461', 'DRY27_1996_1121', 'THU14_1995_308', 'RED81_1995_964', 'SLK65_1995_307', 'FOR38_1995_439', 'DRY32_1995_703', 'FOR42_1995_752', 'COC23_1995_1273', 'DRY26_1995_1350', 'THU53_1995_1395', 'KEN100_1995_159', 'DRY29_1995_275', 'FOR61_1995_328', 'KEN115_1995_1049', 'KEN105_1995_1173', 'KEN121_1995_233', 'COC24_1995_496', 'WAW31_1995_650', 'COC37_1995_372', 'COC38_1995_629', 'FOR141_1995_743', 'THU132_1995_944', 'NIP136_1995_1299', 'FOR137_1995_1337', 'HEA48_1995_222', 'THU136_1995_414', 'FOR140_1995_828', 'WAW69_1995_946', 'CHA29_1995_249', 'WAW86_1995_724', 'NIP154_1995_756', 'HEA54_1995_1000', 'WAW87_1995_1025', 'CHA8_2012_1924', 'KEN36_2012_1917', 'SLK1_2012_1847', 'DRY14_2000_30', 'HEA11_2000_58', 'HEA21_2000_31', 'FOR1_2000_34', 'NIP44_2000_29', 'NIP42_2000_32', 'CHA19_2000_60', 'KLK2_2001_10', 'NIP24_2001_7', 'NIP77_2001_49', 'RED1_2001_6', 'FOR1_2001_9', 'DRY5_2003_1418', 'KLK9_2003_1496', 'THU28_2003_1502', 'KLK5_2003_1495', 'RED65_2003_1440', 'WAW23_2003_1503', 'WAW21_2003_1406', 'NIP17_2003_1485', 'WAW13_2003_1409', 'SLK48_2003_1476', 'DRY58_2003_1441', 'DRY57_2003_1410', 'NIP58_2003_1421', 'KEN110_2003_1423', 'THU16_2002_102', 'DRY10_2002_75', 'NIP16_2002_77', 'RED32_2002_98', 'RED62_2002_93', 'NIP85_2002_103', 'BAN1_2002_105', 'NIP1_2002_101', 'NIP2_2002_99', 'NIP75_2002_76', 'SUD8_2006_1561', 'FOR52_2006_1617', 'FOR54_2006_1619', 'FOR57_2006_1621', 'FOR63_2006_1622', 'FOR61_2006_1624', 'DRY79_2006_1692', 'NIP81_2006_1684', 'NIP108_2006_1651', 'NIP151_2006_1592', 'NIP262_2006_1567', 'THU113_2006_1568', 'NIP238_2006_1571', 'NIP426_2006_1572', 'NIP365_2006_1574', 'NIP410_2006_1602', 'NIP257_2006_1604', 'NIP245_2006_1605', 'NIP291_2006_1611', 'NIP404_2006_1612', 'NIP400_2006_1613', 'NIP334_2006_1616', 'THU185_2006_1633', 'THU144_2006_1638', 'THU163_2006_1640', 'NIP267_2006_1641', 'NIP226_2006_1644', 'NIP415_2006_1645', 'NIP428_2006_1646', 'THU184_2006_1647', 'NIP414_2006_1648', 'THU151_2006_1650', 'THU176_2006_1652', 'NIP276_2006_1655', 'NIP413_2006_1656', 'NIP411_2006_1657', 'THU133_2006_1688', 'THU232_2006_1690', 'NIP322_2006_1573', 'NIP327_2006_1596', 'NIP264_2006_1603', 'NIP323_2006_1607', 'NIP328_2006_1608', 'NIP296_2006_1609', 'THU189_2006_1610', 'NIP341_2006_1614', 'NIP402_2006_1615', 'THU142_2006_1634', 'THU143_2006_1642', 'THU167_2006_1653', 'NIP338_2006_1664', 'THU154_2006_1687', 'THU187_2006_1598', 'FOR165_2006_1620', 'THU249_2006_1639', 'NIP344_2006_1643', 'NIP380_2006_1663', 'THU192_2006_1689', 'THU190_2006_1636', 'NIP406_2006_1569', 'NIP391_2006_1575', 'FOR173_2006_1618', 'FOR179_2006_1623', 'NIP430_2006_1637', 'NIP409_2006_1570', 'THU234_2006_1635', 'THU246_2006_1597', 'NIP440_2006_1601', 'THU36_2007_1584', 'KEN41_2007_1566', 'DRY10_2007_1659', 'SLK11_2007_1658', 'THU37_2007_1662', 'NIP26_2007_1660', 'THU39_2007_1661', 'DRY8_2007_1565', 'TIM7_2005_1515', 'TIM5_2005_1517', 'TIM19_2005_1512', 'CHA18_2005_1513', 'FOR14_2005_1514', 'THU31_2005_1510', 'FOR24_2005_1516', 'HEA63_2005_1511', 'NIP20_2005_1521', 'TIM56_2005_1529', 'NIP52_2005_1522', 'FOR18_2005_1520', 'THU57_2005_1526', 'NIP80_2005_1523', 'WAW12_2011_1749', 'RED84_2011_1823', 'KEN91_2011_1748', 'RED25_2010_1756', 'FOR1_2010_1769', 'KLK9_2004_1508', 'SAU4_1998_335', 'NOR3_1998_373', 'WAW1_1998_1449', 'FOR9_1998_1300', 'WAW7_1998_696', 'THU21_1998_137', 'TIM6_1998_1082', 'TIM41_1998_641', 'WAW22_1998_683', 'CHA13_1998_1022', 'NIP38_1998_1026', 'NIP37_1998_1064', 'NIP24_1998_1285', 'NIP34_1998_714', 'THU71_1998_684', 'NIP49_1998_760', 'NIP58_1998_1031', 'NIP103_1998_283', 'THU124_1998_298', 'WAW58_1998_1354', 'NIP240_1998_123', 'NIP230_1998_821', 'NIP241_1998_609', 'NIP252_1998_994', 'SAU4_1999_329', 'CHA1_1999_1297', 'SAU6_1999_1348', 'PEM4_1999_1091', 'NIP10_1999_1139', 'PEM8_1999_1450', 'NIP12_1999_502', 'NOR11_1999_1390', 'WAW5_1999_797', 'HEA3_1999_1069', 'NOR17_1999_728', 'THU13_1999_514', 'RED58_1999_677', 'NIP97_1999_737', 'SUD121_1999_1289', 'IGN41_1989_211', 'KEN14_1988_448', 'THU53_1988_1053', 'TIM5_1988_390', 'TER6_1988_220', 'COC3_1988_79', 'NIP23_1988_981', 'THU103_1988_802', 'THU107_1988_1115', 'GOG13_1988_1375', 'THU109_1988_747', 'SUD63_1988_763', 'SUD62_1988_1247', 'ESP16_1988_225', 'RED230_1988_277', 'RED208_1988_862', 'ESP17_1988_869', 'NOR70_1988_932']\n"
     ]
    },
    {
     "data": {
      "text/plain": [
       "312"
      ]
     },
     "execution_count": 6,
     "metadata": {},
     "output_type": "execute_result"
    }
   ],
   "source": [
    "dfnbr.info()\n",
    "fireID_nbr = dfnbr['Fire_ID'].to_list()\n",
    "print(fireID_nbr)\n",
    "len(fireID_nbr)"
   ]
  }
 ],
 "metadata": {
  "kernelspec": {
   "display_name": "geospatial_env",
   "language": "python",
   "name": "python3"
  },
  "language_info": {
   "codemirror_mode": {
    "name": "ipython",
    "version": 3
   },
   "file_extension": ".py",
   "mimetype": "text/x-python",
   "name": "python",
   "nbconvert_exporter": "python",
   "pygments_lexer": "ipython3",
   "version": "3.11.6"
  }
 },
 "nbformat": 4,
 "nbformat_minor": 5
}
